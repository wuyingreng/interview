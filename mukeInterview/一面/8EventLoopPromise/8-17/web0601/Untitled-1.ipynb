{
 "cells": [
  {
   "cell_type": "code",
   "execution_count": null,
   "id": "5ec19fdc",
   "metadata": {},
   "outputs": [],
   "source": [
    "class MyPromise {\n",
    "  constructor(callback) {\n",
    "    this.state = 'pending';\n",
    "    this.result = null;\n",
    "    this.error = null;\n",
    "    const resolveCallback = (result) => {\n",
    "      if (this.state === 'pending') {\n",
    "        this.state = 'fulfilled';\n",
    "        this.result = result\n",
    "      }\n",
    "    }\n",
    "    const rejectCallback = (err) => {\n",
    "      if (this.state === 'pending') {\n",
    "        this.state = 'fulfilled';\n",
    "        this.result = result\n",
    "      }\n",
    "    }\n",
    "  }\n",
    "}"
   ]
  }
 ],
 "metadata": {
  "language_info": {
   "name": "python"
  }
 },
 "nbformat": 4,
 "nbformat_minor": 5
}
